{
 "cells": [
  {
   "cell_type": "markdown",
   "metadata": {},
   "source": [
    "## Figuring out Feature Importance"
   ]
  },
  {
   "cell_type": "code",
   "execution_count": 1,
   "metadata": {
    "collapsed": true
   },
   "outputs": [
    {
     "name": "stdout",
     "output_type": "stream",
     "text": [
      "Requirement already satisfied: rfpimp in /Users/siavashmortezavi/anaconda3/lib/python3.6/site-packages (1.0.6)\n",
      "Requirement already satisfied: sklearn in /Users/siavashmortezavi/anaconda3/lib/python3.6/site-packages (from rfpimp) (0.0)\n",
      "Requirement already satisfied: pandas in /Users/siavashmortezavi/anaconda3/lib/python3.6/site-packages (from rfpimp) (0.23.0)\n",
      "Requirement already satisfied: numpy in /Users/siavashmortezavi/anaconda3/lib/python3.6/site-packages (from rfpimp) (1.16.2)\n",
      "Requirement already satisfied: matplotlib in /Users/siavashmortezavi/anaconda3/lib/python3.6/site-packages (from rfpimp) (2.2.2)\n",
      "Requirement already satisfied: scikit-learn in /Users/siavashmortezavi/anaconda3/lib/python3.6/site-packages (from sklearn->rfpimp) (0.19.1)\n",
      "Requirement already satisfied: python-dateutil>=2.5.0 in /Users/siavashmortezavi/anaconda3/lib/python3.6/site-packages (from pandas->rfpimp) (2.7.3)\n",
      "Requirement already satisfied: pytz>=2011k in /Users/siavashmortezavi/anaconda3/lib/python3.6/site-packages (from pandas->rfpimp) (2018.4)\n",
      "Requirement already satisfied: cycler>=0.10 in /Users/siavashmortezavi/anaconda3/lib/python3.6/site-packages (from matplotlib->rfpimp) (0.10.0)\n",
      "Requirement already satisfied: pyparsing!=2.0.4,!=2.1.2,!=2.1.6,>=2.0.1 in /Users/siavashmortezavi/anaconda3/lib/python3.6/site-packages (from matplotlib->rfpimp) (2.2.0)\n",
      "Requirement already satisfied: six>=1.10 in /Users/siavashmortezavi/.local/lib/python3.6/site-packages (from matplotlib->rfpimp) (1.11.0)\n",
      "Requirement already satisfied: kiwisolver>=1.0.1 in /Users/siavashmortezavi/anaconda3/lib/python3.6/site-packages (from matplotlib->rfpimp) (1.0.1)\n",
      "Requirement already satisfied: setuptools in /Users/siavashmortezavi/anaconda3/lib/python3.6/site-packages (from kiwisolver>=1.0.1->matplotlib->rfpimp) (39.1.0)\n",
      "\u001b[33mYou are using pip version 19.0.3, however version 19.1.1 is available.\n",
      "You should consider upgrading via the 'pip install --upgrade pip' command.\u001b[0m\n"
     ]
    }
   ],
   "source": [
    "!pip install rfpimp"
   ]
  },
  {
   "cell_type": "code",
   "execution_count": 62,
   "metadata": {},
   "outputs": [],
   "source": [
    "from rfpimp import *\n",
    "import pandas as pd\n",
    "from sklearn.ensemble import RandomForestRegressor\n",
    "from sklearn.model_selection import train_test_split\n",
    "\n",
    "df_orig = pd.read_csv(\"/Users/siavashmortezavi/Downloads/rent.csv\")\n",
    "\n",
    "df = df_orig.copy()"
   ]
  },
  {
   "cell_type": "code",
   "execution_count": 63,
   "metadata": {},
   "outputs": [
    {
     "data": {
      "text/html": [
       "<div>\n",
       "<style scoped>\n",
       "    .dataframe tbody tr th:only-of-type {\n",
       "        vertical-align: middle;\n",
       "    }\n",
       "\n",
       "    .dataframe tbody tr th {\n",
       "        vertical-align: top;\n",
       "    }\n",
       "\n",
       "    .dataframe thead th {\n",
       "        text-align: right;\n",
       "    }\n",
       "</style>\n",
       "<table border=\"1\" class=\"dataframe\">\n",
       "  <thead>\n",
       "    <tr style=\"text-align: right;\">\n",
       "      <th></th>\n",
       "      <th>bathrooms</th>\n",
       "      <th>bedrooms</th>\n",
       "      <th>price</th>\n",
       "      <th>longitude</th>\n",
       "      <th>latitude</th>\n",
       "      <th>interest_level</th>\n",
       "    </tr>\n",
       "  </thead>\n",
       "  <tbody>\n",
       "    <tr>\n",
       "      <th>0</th>\n",
       "      <td>1.5</td>\n",
       "      <td>3</td>\n",
       "      <td>3000</td>\n",
       "      <td>-73.9425</td>\n",
       "      <td>40.7145</td>\n",
       "      <td>2</td>\n",
       "    </tr>\n",
       "    <tr>\n",
       "      <th>1</th>\n",
       "      <td>1.0</td>\n",
       "      <td>2</td>\n",
       "      <td>5465</td>\n",
       "      <td>-73.9667</td>\n",
       "      <td>40.7947</td>\n",
       "      <td>1</td>\n",
       "    </tr>\n",
       "    <tr>\n",
       "      <th>2</th>\n",
       "      <td>1.0</td>\n",
       "      <td>1</td>\n",
       "      <td>2850</td>\n",
       "      <td>-74.0018</td>\n",
       "      <td>40.7388</td>\n",
       "      <td>3</td>\n",
       "    </tr>\n",
       "    <tr>\n",
       "      <th>3</th>\n",
       "      <td>1.0</td>\n",
       "      <td>1</td>\n",
       "      <td>3275</td>\n",
       "      <td>-73.9677</td>\n",
       "      <td>40.7539</td>\n",
       "      <td>1</td>\n",
       "    </tr>\n",
       "    <tr>\n",
       "      <th>4</th>\n",
       "      <td>1.0</td>\n",
       "      <td>4</td>\n",
       "      <td>3350</td>\n",
       "      <td>-73.9493</td>\n",
       "      <td>40.8241</td>\n",
       "      <td>1</td>\n",
       "    </tr>\n",
       "  </tbody>\n",
       "</table>\n",
       "</div>"
      ],
      "text/plain": [
       "   bathrooms  bedrooms  price  longitude  latitude  interest_level\n",
       "0        1.5         3   3000   -73.9425   40.7145               2\n",
       "1        1.0         2   5465   -73.9667   40.7947               1\n",
       "2        1.0         1   2850   -74.0018   40.7388               3\n",
       "3        1.0         1   3275   -73.9677   40.7539               1\n",
       "4        1.0         4   3350   -73.9493   40.8241               1"
      ]
     },
     "execution_count": 63,
     "metadata": {},
     "output_type": "execute_result"
    }
   ],
   "source": [
    "df.head()"
   ]
  },
  {
   "cell_type": "code",
   "execution_count": 64,
   "metadata": {},
   "outputs": [],
   "source": [
    "# attentuate affect of outliers in price\n",
    "df['price'] = np.log(df['price'])\n",
    "\n",
    "df_train, df_test = train_test_split(df, test_size=0.20)"
   ]
  },
  {
   "cell_type": "code",
   "execution_count": 65,
   "metadata": {},
   "outputs": [],
   "source": [
    "# features = ['bathrooms','bedrooms','longitude','latitude',\n",
    "#             'price']\n",
    "# df_train = df_train[features]\n",
    "# df_test = df_test[features]\n",
    "\n",
    "X_train, y_train = df_train.drop('price',axis=1), df_train['price']\n",
    "X_test, y_test = df_test.drop('price',axis=1), df_test['price']\n",
    "\n",
    "X_train['random'] = np.random.random(size=len(X_train))\n",
    "X_test['random'] = np.random.random(size=len(X_test))\n"
   ]
  },
  {
   "cell_type": "code",
   "execution_count": 66,
   "metadata": {},
   "outputs": [
    {
     "data": {
      "text/html": [
       "<div>\n",
       "<style scoped>\n",
       "    .dataframe tbody tr th:only-of-type {\n",
       "        vertical-align: middle;\n",
       "    }\n",
       "\n",
       "    .dataframe tbody tr th {\n",
       "        vertical-align: top;\n",
       "    }\n",
       "\n",
       "    .dataframe thead th {\n",
       "        text-align: right;\n",
       "    }\n",
       "</style>\n",
       "<table border=\"1\" class=\"dataframe\">\n",
       "  <thead>\n",
       "    <tr style=\"text-align: right;\">\n",
       "      <th></th>\n",
       "      <th>bathrooms</th>\n",
       "      <th>bedrooms</th>\n",
       "      <th>longitude</th>\n",
       "      <th>latitude</th>\n",
       "      <th>interest_level</th>\n",
       "      <th>random</th>\n",
       "    </tr>\n",
       "  </thead>\n",
       "  <tbody>\n",
       "    <tr>\n",
       "      <th>41995</th>\n",
       "      <td>2.0</td>\n",
       "      <td>2</td>\n",
       "      <td>-73.9676</td>\n",
       "      <td>40.7951</td>\n",
       "      <td>1</td>\n",
       "      <td>0.802474</td>\n",
       "    </tr>\n",
       "    <tr>\n",
       "      <th>4775</th>\n",
       "      <td>1.0</td>\n",
       "      <td>1</td>\n",
       "      <td>-73.9781</td>\n",
       "      <td>40.7778</td>\n",
       "      <td>1</td>\n",
       "      <td>0.334093</td>\n",
       "    </tr>\n",
       "    <tr>\n",
       "      <th>45536</th>\n",
       "      <td>1.0</td>\n",
       "      <td>0</td>\n",
       "      <td>-74.0006</td>\n",
       "      <td>40.7383</td>\n",
       "      <td>1</td>\n",
       "      <td>0.956635</td>\n",
       "    </tr>\n",
       "    <tr>\n",
       "      <th>6177</th>\n",
       "      <td>1.0</td>\n",
       "      <td>2</td>\n",
       "      <td>-73.9618</td>\n",
       "      <td>40.7617</td>\n",
       "      <td>1</td>\n",
       "      <td>0.550529</td>\n",
       "    </tr>\n",
       "    <tr>\n",
       "      <th>41964</th>\n",
       "      <td>1.0</td>\n",
       "      <td>1</td>\n",
       "      <td>-73.9475</td>\n",
       "      <td>40.8225</td>\n",
       "      <td>1</td>\n",
       "      <td>0.689826</td>\n",
       "    </tr>\n",
       "  </tbody>\n",
       "</table>\n",
       "</div>"
      ],
      "text/plain": [
       "       bathrooms  bedrooms  longitude  latitude  interest_level    random\n",
       "41995        2.0         2   -73.9676   40.7951               1  0.802474\n",
       "4775         1.0         1   -73.9781   40.7778               1  0.334093\n",
       "45536        1.0         0   -74.0006   40.7383               1  0.956635\n",
       "6177         1.0         2   -73.9618   40.7617               1  0.550529\n",
       "41964        1.0         1   -73.9475   40.8225               1  0.689826"
      ]
     },
     "execution_count": 66,
     "metadata": {},
     "output_type": "execute_result"
    }
   ],
   "source": [
    "X_train.head()"
   ]
  },
  {
   "cell_type": "code",
   "execution_count": 67,
   "metadata": {},
   "outputs": [
    {
     "data": {
      "text/plain": [
       "RandomForestRegressor(bootstrap=True, criterion='mse', max_depth=None,\n",
       "           max_features='auto', max_leaf_nodes=None,\n",
       "           min_impurity_decrease=0.0, min_impurity_split=None,\n",
       "           min_samples_leaf=1, min_samples_split=2,\n",
       "           min_weight_fraction_leaf=0.0, n_estimators=100, n_jobs=-1,\n",
       "           oob_score=False, random_state=None, verbose=0, warm_start=False)"
      ]
     },
     "execution_count": 67,
     "metadata": {},
     "output_type": "execute_result"
    }
   ],
   "source": [
    "rf = RandomForestRegressor(n_estimators=100, n_jobs=-1)\n",
    "rf.fit(X_train, y_train)"
   ]
  },
  {
   "cell_type": "code",
   "execution_count": 68,
   "metadata": {},
   "outputs": [
    {
     "data": {
      "text/plain": [
       "[('interest_level', 0.02747540978846344),\n",
       " ('random', 0.04274856713028626),\n",
       " ('bedrooms', 0.11388926200891548),\n",
       " ('latitude', 0.154128201831231),\n",
       " ('longitude', 0.22427011344661402),\n",
       " ('bathrooms', 0.43748844579448976)]"
      ]
     },
     "execution_count": 68,
     "metadata": {},
     "output_type": "execute_result"
    }
   ],
   "source": [
    "sorted(list(zip(X_train.columns,rf.feature_importances_)), key=lambda x:(x[1],x[0]))"
   ]
  },
  {
   "cell_type": "code",
   "execution_count": 70,
   "metadata": {},
   "outputs": [
    {
     "data": {
      "image/png": "[encoded data removed]",
      "text/plain": [
       "<Figure size 432x288 with 1 Axes>"
      ]
     },
     "metadata": {},
     "output_type": "display_data"
    }
   ],
   "source": [
    "imp = importances(rf, X_test, y_test) # permutation\n",
    "viz = plot_importances(imp)"
   ]
  },
  {
   "cell_type": "code",
   "execution_count": 59,
   "metadata": {},
   "outputs": [
    {
     "data": {
      "image/png": "[encoded data removed]",
      "text/plain": [
       "<Figure size 432x288 with 1 Axes>"
      ]
     },
     "metadata": {},
     "output_type": "display_data"
    }
   ],
   "source": [
    "df_train, df_test = train_test_split(df_orig, test_size=0.20)\n",
    "features = ['bathrooms','bedrooms','price','longitude','latitude',\n",
    "            'interest_level']\n",
    "df_train = df_train[features]\n",
    "df_test = df_test[features]\n",
    "\n",
    "X_train, y_train = df_train.drop('interest_level',axis=1), df_train['interest_level']\n",
    "X_test, y_test = df_test.drop('interest_level',axis=1), df_test['interest_level']\n",
    "# Add column of random numbers\n",
    "X_train['random'] = np.random.random(size=len(X_train))\n",
    "X_test['random'] = np.random.random(size=len(X_test))\n",
    "\n",
    "rf = RandomForestClassifier(n_estimators=100,\n",
    "                            min_samples_leaf=5,\n",
    "                            n_jobs=-1,\n",
    "                            oob_score=True)\n",
    "rf.fit(X_train, y_train)\n",
    "\n",
    "imp = importances(rf, X_test, y_test)\n",
    "viz = plot_importances(imp)"
   ]
  },
  {
   "cell_type": "code",
   "execution_count": 61,
   "metadata": {},
   "outputs": [
    {
     "data": {
      "text/html": [
       "<div>\n",
       "<style scoped>\n",
       "    .dataframe tbody tr th:only-of-type {\n",
       "        vertical-align: middle;\n",
       "    }\n",
       "\n",
       "    .dataframe tbody tr th {\n",
       "        vertical-align: top;\n",
       "    }\n",
       "\n",
       "    .dataframe thead th {\n",
       "        text-align: right;\n",
       "    }\n",
       "</style>\n",
       "<table border=\"1\" class=\"dataframe\">\n",
       "  <thead>\n",
       "    <tr style=\"text-align: right;\">\n",
       "      <th></th>\n",
       "      <th>bathrooms</th>\n",
       "      <th>bedrooms</th>\n",
       "      <th>price</th>\n",
       "      <th>longitude</th>\n",
       "      <th>latitude</th>\n",
       "      <th>interest_level</th>\n",
       "    </tr>\n",
       "  </thead>\n",
       "  <tbody>\n",
       "    <tr>\n",
       "      <th>bathrooms</th>\n",
       "      <td>1.000000</td>\n",
       "      <td>0.533446</td>\n",
       "      <td>0.646049</td>\n",
       "      <td>0.010393</td>\n",
       "      <td>-0.009657</td>\n",
       "      <td>-0.082573</td>\n",
       "    </tr>\n",
       "    <tr>\n",
       "      <th>bedrooms</th>\n",
       "      <td>0.533446</td>\n",
       "      <td>1.000000</td>\n",
       "      <td>0.576157</td>\n",
       "      <td>0.006892</td>\n",
       "      <td>-0.004745</td>\n",
       "      <td>0.027293</td>\n",
       "    </tr>\n",
       "    <tr>\n",
       "      <th>price</th>\n",
       "      <td>0.646049</td>\n",
       "      <td>0.576157</td>\n",
       "      <td>1.000000</td>\n",
       "      <td>-0.004794</td>\n",
       "      <td>-0.007632</td>\n",
       "      <td>-0.252546</td>\n",
       "    </tr>\n",
       "    <tr>\n",
       "      <th>longitude</th>\n",
       "      <td>0.010393</td>\n",
       "      <td>0.006892</td>\n",
       "      <td>-0.004794</td>\n",
       "      <td>1.000000</td>\n",
       "      <td>-0.966807</td>\n",
       "      <td>-0.004752</td>\n",
       "    </tr>\n",
       "    <tr>\n",
       "      <th>latitude</th>\n",
       "      <td>-0.009657</td>\n",
       "      <td>-0.004745</td>\n",
       "      <td>-0.007632</td>\n",
       "      <td>-0.966807</td>\n",
       "      <td>1.000000</td>\n",
       "      <td>0.004804</td>\n",
       "    </tr>\n",
       "    <tr>\n",
       "      <th>interest_level</th>\n",
       "      <td>-0.082573</td>\n",
       "      <td>0.027293</td>\n",
       "      <td>-0.252546</td>\n",
       "      <td>-0.004752</td>\n",
       "      <td>0.004804</td>\n",
       "      <td>1.000000</td>\n",
       "    </tr>\n",
       "  </tbody>\n",
       "</table>\n",
       "</div>"
      ],
      "text/plain": [
       "                bathrooms  bedrooms     price  longitude  latitude  \\\n",
       "bathrooms        1.000000  0.533446  0.646049   0.010393 -0.009657   \n",
       "bedrooms         0.533446  1.000000  0.576157   0.006892 -0.004745   \n",
       "price            0.646049  0.576157  1.000000  -0.004794 -0.007632   \n",
       "longitude        0.010393  0.006892 -0.004794   1.000000 -0.966807   \n",
       "latitude        -0.009657 -0.004745 -0.007632  -0.966807  1.000000   \n",
       "interest_level  -0.082573  0.027293 -0.252546  -0.004752  0.004804   \n",
       "\n",
       "                interest_level  \n",
       "bathrooms            -0.082573  \n",
       "bedrooms              0.027293  \n",
       "price                -0.252546  \n",
       "longitude            -0.004752  \n",
       "latitude              0.004804  \n",
       "interest_level        1.000000  "
      ]
     },
     "execution_count": 61,
     "metadata": {},
     "output_type": "execute_result"
    }
   ],
   "source": [
    "df.corr()"
   ]
  },
  {
   "cell_type": "markdown",
   "metadata": {},
   "source": [
    "## Logistic Regression"
   ]
  },
  {
   "cell_type": "code",
   "execution_count": 71,
   "metadata": {},
   "outputs": [],
   "source": [
    "import numpy as np    \n",
    "from sklearn.linear_model import LogisticRegression\n",
    "\n",
    "x1 = np.random.randn(100)\n",
    "x2 = 4*np.random.randn(100)\n",
    "x3 = 0.5*np.random.randn(100)\n",
    "y = (3 + x1 + x2 + x3 + 0.2*np.random.randn()) > 0\n",
    "X = np.column_stack([x1, x2, x3])"
   ]
  },
  {
   "cell_type": "code",
   "execution_count": 80,
   "metadata": {},
   "outputs": [
    {
     "data": {
      "text/plain": [
       "array([0.95049919, 3.99198733, 0.47018581])"
      ]
     },
     "execution_count": 80,
     "metadata": {},
     "output_type": "execute_result"
    }
   ],
   "source": [
    "np.std(X,axis=0)"
   ]
  },
  {
   "cell_type": "code",
   "execution_count": 74,
   "metadata": {},
   "outputs": [
    {
     "name": "stdout",
     "output_type": "stream",
     "text": [
      "[[1.1648972  1.01986069 0.55840923]]\n",
      "[[1.10723384 4.07127097 0.2625561 ]]\n"
     ]
    }
   ],
   "source": [
    "m = LogisticRegression()\n",
    "m.fit(X, y)\n",
    "# The estimated coefficients will all be around 1:\n",
    "print(m.coef_)\n",
    "# Those values, however, will show that the second parameter\n",
    "# is more influential\n",
    "print(np.std(X, 0)*m.coef_)"
   ]
  },
  {
   "cell_type": "code",
   "execution_count": 49,
   "metadata": {},
   "outputs": [
    {
     "name": "stdout",
     "output_type": "stream",
     "text": [
      "[[0.51730478 2.48076275 0.67725472]]\n"
     ]
    }
   ],
   "source": [
    "m.fit(X / np.std(X, 0), y)\n",
    "print(m.coef_)"
   ]
  },
  {
   "cell_type": "code",
   "execution_count": null,
   "metadata": {},
   "outputs": [],
   "source": []
  }
 ],
 "metadata": {
  "kernelspec": {
   "display_name": "Python 3",
   "language": "python",
   "name": "python3"
  },
  "language_info": {
   "codemirror_mode": {
    "name": "ipython",
    "version": 3
   },
   "file_extension": ".py",
   "mimetype": "text/x-python",
   "name": "python",
   "nbconvert_exporter": "python",
   "pygments_lexer": "ipython3",
   "version": "3.7.3"
  }
 },
 "nbformat": 4,
 "nbformat_minor": 2
}
